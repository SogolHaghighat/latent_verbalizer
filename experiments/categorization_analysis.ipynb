{
 "cells": [
  {
   "cell_type": "code",
   "execution_count": 1,
   "id": "f7464962-f674-4d7f-b2c7-de55ada64c35",
   "metadata": {},
   "outputs": [],
   "source": [
    "import json\n",
    "\n",
    "import pandas as pd\n",
    "from exp_utility import get_adapted_curr_layer_class_dist, get_all_defined_classes_per_layer, get_layer_class_dist, map_all_classes_to_merged_list, remove_empty_lists\n"
   ]
  },
  {
   "cell_type": "markdown",
   "id": "d7bc133f-c2eb-43b3-b437-2b1a38c30b91",
   "metadata": {},
   "source": [
    "### 1. Merge all batches & get top_1 classe for all captions per layers\n",
    "#### 1.1 Not all generated answers by LLM match the json dictionary format that is required and if so they are removed. This results in around 1.3% loss in data"
   ]
  },
  {
   "cell_type": "code",
   "execution_count": 9,
   "id": "8ecb4253-0385-45e0-9dfe-958720526fc6",
   "metadata": {},
   "outputs": [
    {
     "name": "stdout",
     "output_type": "stream",
     "text": [
      "retrieved top1 classes for 441 at layer 1\n",
      "retrieved top1 classes for 481 at layer 2\n",
      "retrieved top1 classes for 477 at layer 3\n",
      "retrieved top1 classes for 479 at layer 4\n",
      "retrieved top1 classes for 494 at layer 5\n",
      "retrieved top1 classes for 491 at layer 6\n",
      "retrieved top1 classes for 496 at layer 7\n",
      "retrieved top1 classes for 497 at layer 8\n",
      "retrieved top1 classes for 500 at layer 9\n",
      "retrieved top1 classes for 500 at layer 10\n",
      "retrieved top1 classes for 499 at layer 11\n",
      "retrieved top1 classes for 488 at layer 12\n",
      "retrieved top1 classes for 496 at layer 13\n",
      "retrieved top1 classes for 498 at layer 14\n",
      "retrieved top1 classes for 499 at layer 15\n",
      "retrieved top1 classes for 499 at layer 16\n",
      "retrieved top1 classes for 499 at layer 17\n",
      "retrieved top1 classes for 500 at layer 18\n",
      "retrieved top1 classes for 500 at layer 19\n",
      "retrieved top1 classes for 500 at layer 20\n",
      "retrieved top1 classes for 500 at layer 21\n",
      "retrieved top1 classes for 498 at layer 22\n",
      "retrieved top1 classes for 499 at layer 23\n",
      "retrieved top1 classes for 500 at layer 24\n"
     ]
    }
   ],
   "source": [
    "no_layers = 24\n",
    "no_batch = 1\n",
    "samples_per_batch = 500\n",
    "dataset_size = no_batch * samples_per_batch \n",
    "\n",
    "top1 = {}\n",
    "for l in range(no_layers):\n",
    "    layer_data = []\n",
    "    for b in range(no_batch): #FIXME change the path and give batch size and layer no \n",
    "        with open(f'../data/interpret/label_top3_llama70B/classification_llama_70B_top3_labels_layer_{l}_caps_batch{b}.json') as f:\n",
    "            data = json.load(f)\n",
    "        layer_data.extend(data)\n",
    "    curr,l,e = get_all_defined_classes_per_layer(layer_data,l,dataset_size)\n",
    "    print(f'retrieved top1 classes for {len(curr)} at layer {l+1}')\n",
    "    top1[f'layer_{l}'] = curr"
   ]
  },
  {
   "cell_type": "markdown",
   "id": "a15874e4-e29b-4865-bf07-85c375af8819",
   "metadata": {},
   "source": [
    "### 2. Process the top classes and store in panda dataframe\n",
    "#### 2.1 Calculate the distribution of each class per layer (this step requires some postprocessing and cleaning using the provided helper functions)\n",
    "#### 2.2 Generate dataframe with percentage of each recognized class in the columns and layers as rows"
   ]
  },
  {
   "cell_type": "code",
   "execution_count": 10,
   "id": "22dabe47-c03b-4ec6-8eec-f79572a1f925",
   "metadata": {},
   "outputs": [],
   "source": [
    "all_labels, list_classes = map_all_classes_to_merged_list()\n",
    "\n",
    "df_list = []\n",
    "for layer_no in range(24):\n",
    "    curr_layer_class_dist, c = get_adapted_curr_layer_class_dist(top1,layer_no,all_labels)\n",
    "    curr_layer_class_dist = remove_empty_lists(curr_layer_class_dist)\n",
    "    df = get_layer_class_dist(curr_layer_class_dist, list_classes)\n",
    "   \n",
    "    \n",
    "    df_list.append(df.rename(columns={'Percentage':layer_no+1}).pivot_table(columns='Class'))"
   ]
  },
  {
   "cell_type": "code",
   "execution_count": 11,
   "id": "6d20e9de-634d-4c6c-bc83-27ad57891764",
   "metadata": {},
   "outputs": [],
   "source": [
    "classification_data = pd.concat(df_list)\n",
    "classification_data.to_csv(\"../data/CSV_files/classification_data_500.csv\", index=False)"
   ]
  }
 ],
 "metadata": {
  "kernelspec": {
   "display_name": "Python 3 (ipykernel)",
   "language": "python",
   "name": "python3"
  },
  "language_info": {
   "codemirror_mode": {
    "name": "ipython",
    "version": 3
   },
   "file_extension": ".py",
   "mimetype": "text/x-python",
   "name": "python",
   "nbconvert_exporter": "python",
   "pygments_lexer": "ipython3",
   "version": "3.10.14"
  }
 },
 "nbformat": 4,
 "nbformat_minor": 5
}
